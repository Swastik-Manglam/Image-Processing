{
 "cells": [
  {
   "cell_type": "markdown",
   "metadata": {},
   "source": [
    "# Task-4.1"
   ]
  },
  {
   "cell_type": "markdown",
   "metadata": {},
   "source": [
    "# Image-1"
   ]
  },
  {
   "cell_type": "code",
   "execution_count": 1,
   "metadata": {},
   "outputs": [],
   "source": [
    "import cv2\n",
    "import numpy as np\n",
    "import random"
   ]
  },
  {
   "cell_type": "code",
   "execution_count": 2,
   "metadata": {},
   "outputs": [],
   "source": [
    "arr= np.zeros((500,500,3))\n",
    "\n",
    "cv2.imshow(\"black_image\",arr)\n",
    "cv2.waitKey()\n",
    "cv2.destroyAllWindows()"
   ]
  },
  {
   "cell_type": "code",
   "execution_count": 3,
   "metadata": {},
   "outputs": [],
   "source": [
    "for i in range(20,480):\n",
    "    for j in range(241,261):\n",
    "        arr[i][j]= [random.randrange(0,2),random.randrange(0,50),random.randrange(220,225)]\n",
    "\n",
    "for j in range(20,480):\n",
    "    for i in range(241,261):\n",
    "        arr[i][j]= [random.randrange(0,2),random.randrange(0,50),random.randrange(220,225)]\n",
    "        \n",
    "for i in range(20,241):\n",
    "    for j in range(20,40):\n",
    "        arr[i][j]= [random.randrange(0,2),random.randrange(0,50),random.randrange(220,225)]\n",
    "        "
   ]
  },
  {
   "cell_type": "code",
   "execution_count": 4,
   "metadata": {},
   "outputs": [],
   "source": [
    "for i in range(20,40):\n",
    "    for j in range(261,481):\n",
    "        arr[i][j]= [random.randrange(0,2),random.randrange(0,50),random.randrange(220,225)]\n",
    "        \n",
    "for i in range(261,481):\n",
    "    for j in range(-40,-20):\n",
    "        arr[i][j]= [random.randrange(0,2),random.randrange(0,50),random.randrange(220,225)]\n",
    "       "
   ]
  },
  {
   "cell_type": "code",
   "execution_count": 5,
   "metadata": {},
   "outputs": [],
   "source": [
    "for i in range(460,480):\n",
    "    for j in range(20,241):\n",
    "        arr[i][j]= [random.randrange(0,2),random.randrange(0,50),random.randrange(220,225)]"
   ]
  },
  {
   "cell_type": "code",
   "execution_count": 6,
   "metadata": {},
   "outputs": [],
   "source": [
    "cv2.imshow(\"Swastik sign\",arr)\n",
    "cv2.waitKey()\n",
    "cv2.destroyAllWindows()"
   ]
  },
  {
   "cell_type": "markdown",
   "metadata": {},
   "source": [
    "# Image-2"
   ]
  },
  {
   "cell_type": "code",
   "execution_count": 7,
   "metadata": {},
   "outputs": [],
   "source": [
    "arr= np.zeros((500,500,3))\n",
    "\n",
    "cv2.imshow(\"black_image\",arr)\n",
    "cv2.waitKey()\n",
    "cv2.destroyAllWindows()"
   ]
  },
  {
   "cell_type": "code",
   "execution_count": 8,
   "metadata": {},
   "outputs": [],
   "source": [
    "arr[8:492,8:492]=[255,255,255]\n",
    "\n",
    "arr[200:250,200:250]=[255,0,0]\n",
    "\n",
    "arr[200:250,250:300]=[0,255,0]\n",
    "\n",
    "arr[250:300,200:250]=[0,0,255]\n",
    "\n",
    "arr[250:300,250:300]=[0,255,255]\n",
    "\n",
    "arr[20:200,20:200]=[255,0,0]\n",
    "\n",
    "arr[20:200,300:480]=[0,255,0]\n",
    "\n",
    "arr[300:480,300:480]=[0,255,255]\n",
    "\n",
    "arr[300:480,20:200]=[0,0,255]"
   ]
  },
  {
   "cell_type": "code",
   "execution_count": 9,
   "metadata": {},
   "outputs": [],
   "source": [
    "x1=45\n",
    "y1=325\n",
    "x2=95\n",
    "y2=375\n",
    "d=x2-x1\n",
    "s=30\n",
    "arr[x1:x2,y1:y2]=[255,255,255]\n",
    "arr[x1:x2,y2+s:y2+s+d]=[255,255,255]\n",
    "arr[x2+s:x2+s+d,y1:y2]=[255,255,255]\n",
    "arr[x2+s:x2+s+d,y2+s:y2+s+d]=[255,255,255]\n",
    "\n",
    "x1=45\n",
    "y1=45\n",
    "x2=95\n",
    "y2=95\n",
    "d=x2-x1\n",
    "s=30\n",
    "arr[x1:x2,y1:y2]=[255,255,255]\n",
    "arr[x1:x2,y2+s:y2+s+d]=[255,255,255]\n",
    "arr[x2+s:x2+s+d,y1:y2]=[255,255,255]\n",
    "arr[x2+s:x2+s+d,y2+s:y2+s+d]=[255,255,255]\n",
    "\n",
    "x1=325\n",
    "y1=45\n",
    "x2=375\n",
    "y2=95\n",
    "d=x2-x1\n",
    "s=30\n",
    "arr[x1:x2,y1:y2]=[255,255,255]\n",
    "arr[x1:x2,y2+s:y2+s+d]=[255,255,255]\n",
    "arr[x2+s:x2+s+d,y1:y2]=[255,255,255]\n",
    "arr[x2+s:x2+s+d,y2+s:y2+s+d]=[255,255,255]\n",
    "\n",
    "x1=325\n",
    "y1=325\n",
    "x2=375\n",
    "y2=375\n",
    "d=x2-x1\n",
    "s=30\n",
    "arr[x1:x2,y1:y2]=[255,255,255]\n",
    "arr[x1:x2,y2+s:y2+s+d]=[255,255,255]\n",
    "arr[x2+s:x2+s+d,y1:y2]=[255,255,255]\n",
    "arr[x2+s:x2+s+d,y2+s:y2+s+d]=[255,255,255]"
   ]
  },
  {
   "cell_type": "code",
   "execution_count": 10,
   "metadata": {},
   "outputs": [],
   "source": [
    "a=33\n",
    "for i in range(20,200):\n",
    "    for j in range(200,300):\n",
    "        if( j==200 or j== 299 or j==300-a or j==200+a):\n",
    "            arr[i][j] = [0,0,0]\n",
    "            arr[i][j] = [0,0,0]\n",
    "\n",
    "for i in range(300,480):\n",
    "    for j in range(200,300):\n",
    "        if( j==200 or j== 299 or j==300-a or j==200+a):\n",
    "            arr[i][j] = [0,0,0]\n",
    "            arr[i][j] = [0,0,0]\n",
    "\n",
    "for i in range(200,301):\n",
    "    for j in range(20,480):\n",
    "        if( i==200 or i== 300 or i==300-a and (j<200 or j>300) or i==200+a and (j<200 or j>300)  ):\n",
    "            arr[i][j] = [0,0,0]\n",
    "            arr[i][j] = [0,0,0]\n",
    "            \n",
    "for i in range(20,200):\n",
    "    for j in range(201+a,300-a):\n",
    "        arr[i][j]=[0,255,0]\n",
    "        \n",
    "for i in range(301,481):\n",
    "    for j in range(201+a,300-a):\n",
    "        arr[i][j]=[0,0,255]\n",
    "\n",
    "arr[201+a:300-a,20:200]=[0,0,255]\n",
    "arr[201+a:300-a,300:480]=[0,255,255]"
   ]
  },
  {
   "cell_type": "code",
   "execution_count": 11,
   "metadata": {},
   "outputs": [],
   "source": [
    "for i in range(20,201,36):\n",
    "    for j in range(200,300):\n",
    "        arr[i][j] = [0,0,0]\n",
    "        \n",
    "for i in range(300,481,36):\n",
    "    for j in range(200,300):\n",
    "        arr[i][j] = [0,0,0]\n",
    "        \n",
    "for i in range(201,300):\n",
    "    for j in range(20,201,36):\n",
    "        arr[i][j] = [0,0,0]\n",
    "        \n",
    "for i in range(201,300):\n",
    "    for j in range(300,481,36):\n",
    "        arr[i][j] = [0,0,0]"
   ]
  },
  {
   "cell_type": "code",
   "execution_count": 12,
   "metadata": {},
   "outputs": [],
   "source": [
    "arr[17:21  ,17:483] =[0,0,0]\n",
    "# arr[200    ,17:483] =[0,0,0]\n",
    "# arr[300    ,17:483] =[0,0,0]\n",
    "arr[480:483,17:483] =[0,0,0]\n",
    "arr[17:483 ,17:21 ] =[0,0,0]\n",
    "arr[17:483,480:484] =[0,0,0]"
   ]
  },
  {
   "cell_type": "code",
   "execution_count": 13,
   "metadata": {},
   "outputs": [],
   "source": [
    "cv2.imshow(\"Ludo\",arr)\n",
    "cv2.waitKey()\n",
    "cv2.destroyAllWindows()"
   ]
  }
 ],
 "metadata": {
  "kernelspec": {
   "display_name": "Python 3",
   "language": "python",
   "name": "python3"
  },
  "language_info": {
   "codemirror_mode": {
    "name": "ipython",
    "version": 3
   },
   "file_extension": ".py",
   "mimetype": "text/x-python",
   "name": "python",
   "nbconvert_exporter": "python",
   "pygments_lexer": "ipython3",
   "version": "3.8.3"
  }
 },
 "nbformat": 4,
 "nbformat_minor": 4
}
